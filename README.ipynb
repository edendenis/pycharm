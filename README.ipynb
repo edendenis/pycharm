{
 "cells": [
  {
   "cell_type": "markdown",
   "metadata": {},
   "source": [
    "# Como configurar/instalar/usar o `PyCharm` no `Linux Ubuntu`\n",
    "\n",
    "## Resumo\n",
    "\n",
    "Neste documento estão contidos os principais comandos e configurações para configurar/instalar/usar o `PyCharm` no `Linux Ubuntu`.\n",
    "\n",
    "## _Abstract_\n",
    "\n",
    "_In this document are contained the main commands and settings to set up/install/use the `PyCharm` on `Linux Ubuntu`._"
   ]
  },
  {
   "cell_type": "markdown",
   "metadata": {},
   "source": [
    "## Descrição [2]\n",
    "\n",
    "### `PyCharm`\n",
    "\n",
    "O `PyCharm` é um ambiente de desenvolvimento integrado (IDE) altamente conceituado e amplamente utilizado para programação em `Python`. Desenvolvido pela JetBrains, o `PyCharm` oferece uma variedade de recursos poderosos e ferramentas de produtividade projetadas especificamente para facilitar o desenvolvimento de aplicativos `Python`. Ele inclui um editor de código com recursos avançados de autocompletar, realce de sintaxe e depuração, além de suporte a frameworks populares, como Django e Flask. O `PyCharm` também oferece integração com sistemas de controle de versão, gerenciamento de dependências e ambientes virtuais, simplificando o gerenciamento de projetos `Python` complexos. Sua interface de usuário intuitiva e personalizável, juntamente com sua extensa coleção de plug-ins e extensões, tornam-no uma escolha preferida para desenvolvedores `Python` em busca de produtividade e eficiência em seu fluxo de trabalho de programação."
   ]
  },
  {
   "cell_type": "markdown",
   "metadata": {},
   "source": [
    "## 1. Como configurar/instalar/usar o `hibernate` no `Linux Ubuntu` [1]\n",
    "\n",
    "Para configurar/instalar/usar e configurar um servidor SSH no `Linux Ubuntu`, você pode seguir estas etapas:\n",
    "\n",
    "1. Abra o `Terminal Emulator`. Você pode fazer isso pressionando: `Ctrl + Alt + T`\n"
   ]
  },
  {
   "cell_type": "markdown",
   "metadata": {
    "vscode": {
     "languageId": "plaintext"
    }
   },
   "source": [
    "2. Certifique-se de que seu sistema esteja limpo e atualizado.\n",
    "\n",
    "    2.1 Limpar o `cache` do gerenciador de pacotes `apt`. Especificamente, ele remove todos os arquivos de pacotes (`.deb`) baixados pelo `apt` e armazenados em `/var/cache/apt/archives/`. Digite o seguinte comando: `sudo apt clean` \n",
    "    \n",
    "    2.2 Remover pacotes `.deb` antigos ou duplicados do cache local. É útil para liberar espaço, pois remove apenas os pacotes que não podem mais ser baixados (ou seja, versões antigas de pacotes que foram atualizados). Digite o seguinte comando: `sudo apt autoclean`\n",
    "\n",
    "    2.3 Remover pacotes que foram automaticamente instalados para satisfazer as dependências de outros pacotes e que não são mais necessários. Digite o seguinte comando: `sudo apt autoremove -y`\n",
    "\n",
    "    2.4 Buscar as atualizações disponíveis para os pacotes que estão instalados em seu sistema. Digite o seguinte comando e pressione `Enter`: `sudo apt update`\n",
    "\n",
    "    2.5 **Corrigir pacotes quebrados**: Isso atualizará a lista de pacotes disponíveis e tentará corrigir pacotes quebrados ou com dependências ausentes: `sudo apt --fix-broken install`\n",
    "\n",
    "    2.6 Limpar o `cache` do gerenciador de pacotes `apt`. Especificamente, ele remove todos os arquivos de pacotes (`.deb`) baixados pelo `apt` e armazenados em `/var/cache/apt/archives/`. Digite o seguinte comando: `sudo apt clean` \n",
    "    \n",
    "    2.7 Para ver a lista de pacotes a serem atualizados, digite o seguinte comando e pressione `Enter`:  `sudo apt list --upgradable`\n",
    "\n",
    "    2.8 Realmente atualizar os pacotes instalados para as suas versões mais recentes, com base na última vez que você executou `sudo apt update`. Digite o seguinte comando e pressione `Enter`: `sudo apt full-upgrade -y`\n",
    "   "
   ]
  },
  {
   "cell_type": "markdown",
   "metadata": {},
   "source": [
    "3. **Instale o `Snap` (caso ainda não esteja instalado):** O `PyCharm` pode ser instalado usando o `Snap`, que é um sistema de empacotamento de aplicativos. Se o `Snap` não estiver instalado no seu sistema, você pode instalá-lo com o seguinte comando: `sudo apt install snapd -y`\n",
    "\n",
    "4. **Instale o PyCharm Community ou Professional:** Agora você pode instalar o `PyCharm Community` ou `Professional Edition` usando o `Snap`. Escolha a edição que você deseja instalar.\n",
    "\n",
    "    4.1 **(Opção 1: gratuíta)**: Para instalar o `PyCharm Community Edition`, execute o seguinte comando: `sudo snap install pycharm-community --classic`\n",
    "\n",
    "    4.2 **(Opção 2: paga)**: Para instalar o `PyCharm Professional Edition`, execute o seguinte comando: `sudo snap install pycharm-professional --classic`\n",
    "\n",
    "5. **Inicie o PyCharm**: Depois que a instalação for concluída, você pode iniciar o `PyCharm` a partir do menu de aplicativos ou usando o seguinte comando no terminal:\n",
    "\n",
    "    5.1 Para a versão `Community`: `pycharm-community`   \n",
    "\n",
    "    5.2 Para a versão `Professional`: `pycharm-professional` \n",
    "\n",
    "O `PyCharm` será iniciado e você poderá configurá-lo conforme suas preferências.\n",
    "\n",
    "Agora você tem o `PyCharm` instalado no seu sistema Ubuntu e pode começar a desenvolver seus projetos `Python`.\n"
   ]
  },
  {
   "cell_type": "markdown",
   "metadata": {
    "vscode": {
     "languageId": "plaintext"
    }
   },
   "source": [
    "## 1.1 Código completo para configurar/instalar/usar\n",
    "\n",
    "Para configurar/instalar/usar o `PyCharm` no Linux Ubuntu sem precisar digitar linha por linha, você pode seguir estas etapas:\n",
    "\n",
    "1. Abra o `Terminal Emulator`. Você pode fazer isso pressionando: `Ctrl + Alt + T`\n",
    "\n",
    "2. Digite o seguinte comando e pressione `Enter`:\n",
    "\n",
    "    ```\n",
    "    sudo apt clean\n",
    "    sudo apt autoclean\n",
    "    sudo apt autoremove -y\n",
    "    sudo apt update\n",
    "    sudo apt --fix-broken install\n",
    "    sudo apt clean\n",
    "    sudo apt list --upgradable\n",
    "    sudo apt full-upgrade -y\n",
    "    sudo apt install snapd\n",
    "    sudo snap install pycharm-community --classic\n",
    "    pycharm-community\n",
    "    ```\n"
   ]
  },
  {
   "cell_type": "markdown",
   "metadata": {
    "vscode": {
     "languageId": "plaintext"
    }
   },
   "source": [
    "## 2. Desinstalar o `PyCharm` do `Linux Ubuntu` pelo `Terminal Emulator`\n",
    "\n",
    "Para desinstalar o `PyCharm` no `Linux Ubuntu` pelo `Terminal Emulator`, você pode seguir os seguintes passos:\n",
    "\n",
    "1. **Abra o `Terminal Emulator`**: Abra um `Terminal Emulator` no seu sistema `Linux Ubuntu`. Você pode fazer isso pressionando `Ctrl + Alt + T` ou procurando por `\"Terminal\"` no menu de aplicativos.\n",
    "\n",
    "2. **Verifique as versões instaladas**: Antes de desinstalar, é útil verificar quais versões do `PyCharm` você tem instaladas usando o `Snap`. Você pode listar todos os pacotes instalados com o `Snap` usando o comando: `snap list`\n",
    "\n",
    "3. **Desinstale o `PyCharm Community` ou `Professional`**: Dependendo da versão do `PyCharm` que você instalou, use um dos seguintes comandos para desinstalá-lo:\n",
    "\n",
    "    3.1 Para desinstalar o `PyCharm Community Edition`, execute o seguinte comando: `sudo snap remove pycharm-community`\n",
    "\n",
    "    3.2 Para desinstalar o `PyCharm Professional Edition`, execute o seguinte comando: `sudo snap remove pycharm-professional`\n",
    "\n",
    "    Esses comandos irão remover a instalação do `PyCharm` do seu sistema.\n",
    "\n",
    "4. **Verifique a remoção**: Você pode verificar se o `PyCharm` foi desinstalado com sucesso listando novamente os pacotes instalados com o `Snap`: `snap list`\n",
    "\n",
    "    Se o `PyCharm` não aparecer na lista, significa que ele foi desinstalado com sucesso.\n",
    "\n",
    "Agora você desinstalou o `PyCharm` do seu sistema `Linux Ubuntu`."
   ]
  },
  {
   "cell_type": "markdown",
   "metadata": {
    "vscode": {
     "languageId": "plaintext"
    }
   },
   "source": [
    "## Referências\n",
    "\n",
    "[1] OPENAI. ***Instale o pycharm no ubuntu.*** Disponível em: <https://chat.openai.com/c/1d35e7fb-3cd9-4ad1-a53d-34adbb5c5162> (texto adaptado). Acessado em: 21/11/2023 09:45.\n",
    "\n",
    "[2] OPENAI. ***Vs code: editor popular.*** Disponível em: <https://chat.openai.com/c/b640a25d-f8e3-4922-8a3b-ed74a2657e42> (texto adaptado). Acessado em: 21/11/2023 09:46.\n"
   ]
  }
 ],
 "metadata": {
  "kernelspec": {
   "display_name": "Python 3",
   "language": "python",
   "name": "python3"
  },
  "language_info": {
   "codemirror_mode": {
    "name": "ipython",
    "version": 3
   },
   "file_extension": ".py",
   "mimetype": "text/x-python",
   "name": "python",
   "nbconvert_exporter": "python",
   "pygments_lexer": "ipython3",
   "version": "3.8.10"
  },
  "orig_nbformat": 4
 },
 "nbformat": 4,
 "nbformat_minor": 2
}
